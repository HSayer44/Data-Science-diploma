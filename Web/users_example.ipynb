{
 "cells": [
  {
   "cell_type": "code",
   "execution_count": 1,
   "id": "6beb0625",
   "metadata": {},
   "outputs": [
    {
     "name": "stdout",
     "output_type": "stream",
     "text": [
      "b'{\"code\":200,\"meta\":{\"pagination\":{\"total\":3580,\"pages\":358,\"page\":1,\"limit\":10}},\"data\":[{\"id\":3623,\"name\":\"Goswami Arora\",\"email\":\"arora_goswami@pollich.co\",\"gender\":\"female\",\"status\":\"active\"},{\"id\":3620,\"name\":\"Chaitan Chaturvedi\",\"email\":\"chaitan_chaturvedi@keeling.io\",\"gender\":\"male\",\"status\":\"active\"},{\"id\":3618,\"name\":\"Sarvin Saini\",\"email\":\"sarvin_saini@dietrich.net\",\"gender\":\"male\",\"status\":\"active\"},{\"id\":3617,\"name\":\"Rev. Atreyee Sethi\",\"email\":\"rev_atreyee_sethi@mraz-trantow.co\",\"gender\":\"male\",\"status\":\"active\"},{\"id\":3616,\"name\":\"Shanti Prajapat\",\"email\":\"prajapat_shanti@braun.com\",\"gender\":\"male\",\"status\":\"inactive\"},{\"id\":3615,\"name\":\"Chiranjeeve Varrier\",\"email\":\"varrier_chiranjeeve@hammes.org\",\"gender\":\"female\",\"status\":\"inactive\"},{\"id\":3614,\"name\":\"Ranjeet Singh\",\"email\":\"singh_ranjeet@gleichner-ankunding.name\",\"gender\":\"male\",\"status\":\"active\"},{\"id\":3613,\"name\":\"Chandravati Desai\",\"email\":\"chandravati_desai@gulgowski.com\",\"gender\":\"male\",\"status\":\"inactive\"},{\"id\":3612,\"name\":\"Rep. Udai Varman\",\"email\":\"rep_udai_varman@mohr-kerluke.info\",\"gender\":\"male\",\"status\":\"inactive\"},{\"id\":3611,\"name\":\"Tanushree Agarwal\",\"email\":\"agarwal_tanushree@ernser-krajcik.biz\",\"gender\":\"female\",\"status\":\"inactive\"}]}'\n"
     ]
    },
    {
     "data": {
      "text/plain": [
       "str"
      ]
     },
     "execution_count": 1,
     "metadata": {},
     "output_type": "execute_result"
    }
   ],
   "source": [
    "import requests, json\n",
    "\n",
    "url = \"https://gorest.co.in/public-api/users?_format=json&access-token=H4lYmIGLXZkDlpy_w0ZVS5rgcpDXbN7fhRRy\"\n",
    "response = requests.request(\"GET\", url)\n",
    "print(response.content)\n",
    "type(response.text)"
   ]
  },
  {
   "cell_type": "code",
   "execution_count": 2,
   "id": "b6508da3",
   "metadata": {},
   "outputs": [
    {
     "name": "stdout",
     "output_type": "stream",
     "text": [
      "{'code': 200, 'meta': {'pagination': {'total': 3580, 'pages': 358, 'page': 1, 'limit': 10}}, 'data': [{'id': 3623, 'name': 'Goswami Arora', 'email': 'arora_goswami@pollich.co', 'gender': 'female', 'status': 'active'}, {'id': 3620, 'name': 'Chaitan Chaturvedi', 'email': 'chaitan_chaturvedi@keeling.io', 'gender': 'male', 'status': 'active'}, {'id': 3618, 'name': 'Sarvin Saini', 'email': 'sarvin_saini@dietrich.net', 'gender': 'male', 'status': 'active'}, {'id': 3617, 'name': 'Rev. Atreyee Sethi', 'email': 'rev_atreyee_sethi@mraz-trantow.co', 'gender': 'male', 'status': 'active'}, {'id': 3616, 'name': 'Shanti Prajapat', 'email': 'prajapat_shanti@braun.com', 'gender': 'male', 'status': 'inactive'}, {'id': 3615, 'name': 'Chiranjeeve Varrier', 'email': 'varrier_chiranjeeve@hammes.org', 'gender': 'female', 'status': 'inactive'}, {'id': 3614, 'name': 'Ranjeet Singh', 'email': 'singh_ranjeet@gleichner-ankunding.name', 'gender': 'male', 'status': 'active'}, {'id': 3613, 'name': 'Chandravati Desai', 'email': 'chandravati_desai@gulgowski.com', 'gender': 'male', 'status': 'inactive'}, {'id': 3612, 'name': 'Rep. Udai Varman', 'email': 'rep_udai_varman@mohr-kerluke.info', 'gender': 'male', 'status': 'inactive'}, {'id': 3611, 'name': 'Tanushree Agarwal', 'email': 'agarwal_tanushree@ernser-krajcik.biz', 'gender': 'female', 'status': 'inactive'}]}\n"
     ]
    }
   ],
   "source": [
    "json_response = json.loads(response.text)\n",
    "print(json_response)"
   ]
  },
  {
   "cell_type": "code",
   "execution_count": 4,
   "id": "39419b98",
   "metadata": {},
   "outputs": [],
   "source": [
    "users = json_response['data']"
   ]
  },
  {
   "cell_type": "code",
   "execution_count": 9,
   "id": "83ba3b4f",
   "metadata": {},
   "outputs": [
    {
     "name": "stdout",
     "output_type": "stream",
     "text": [
      "{'id': 3623, 'name': 'Goswami Arora', 'email': 'arora_goswami@pollich.co', 'gender': 'female', 'status': 'active'}\n",
      "{'id': 3620, 'name': 'Chaitan Chaturvedi', 'email': 'chaitan_chaturvedi@keeling.io', 'gender': 'male', 'status': 'active'}\n",
      "{'id': 3618, 'name': 'Sarvin Saini', 'email': 'sarvin_saini@dietrich.net', 'gender': 'male', 'status': 'active'}\n",
      "{'id': 3617, 'name': 'Rev. Atreyee Sethi', 'email': 'rev_atreyee_sethi@mraz-trantow.co', 'gender': 'male', 'status': 'active'}\n",
      "{'id': 3616, 'name': 'Shanti Prajapat', 'email': 'prajapat_shanti@braun.com', 'gender': 'male', 'status': 'inactive'}\n",
      "{'id': 3615, 'name': 'Chiranjeeve Varrier', 'email': 'varrier_chiranjeeve@hammes.org', 'gender': 'female', 'status': 'inactive'}\n",
      "{'id': 3614, 'name': 'Ranjeet Singh', 'email': 'singh_ranjeet@gleichner-ankunding.name', 'gender': 'male', 'status': 'active'}\n",
      "{'id': 3613, 'name': 'Chandravati Desai', 'email': 'chandravati_desai@gulgowski.com', 'gender': 'male', 'status': 'inactive'}\n",
      "{'id': 3612, 'name': 'Rep. Udai Varman', 'email': 'rep_udai_varman@mohr-kerluke.info', 'gender': 'male', 'status': 'inactive'}\n",
      "{'id': 3611, 'name': 'Tanushree Agarwal', 'email': 'agarwal_tanushree@ernser-krajcik.biz', 'gender': 'female', 'status': 'inactive'}\n"
     ]
    }
   ],
   "source": [
    "for user in users:\n",
    "    print(user)"
   ]
  },
  {
   "cell_type": "code",
   "execution_count": 14,
   "id": "3e75ac9f",
   "metadata": {},
   "outputs": [],
   "source": [
    "import csv\n",
    "with open('users2.csv', 'w') as f:\n",
    "    writer = csv.DictWriter(f, fieldnames=['id', 'name', 'email', 'gender', 'status'])\n",
    "    writer.writeheader()\n",
    "    for user in users:\n",
    "        i_d = user['id']\n",
    "        name = user['name']\n",
    "        email = user['email']\n",
    "        gender = user['gender']\n",
    "        status = user['status']\n",
    "        writer.writerow({'id': i_d, 'name': name, 'email': email, 'gender': gender, 'status': status})\n",
    "        "
   ]
  },
  {
   "cell_type": "code",
   "execution_count": 15,
   "id": "cb85af26",
   "metadata": {},
   "outputs": [
    {
     "data": {
      "text/html": [
       "<div>\n",
       "<style scoped>\n",
       "    .dataframe tbody tr th:only-of-type {\n",
       "        vertical-align: middle;\n",
       "    }\n",
       "\n",
       "    .dataframe tbody tr th {\n",
       "        vertical-align: top;\n",
       "    }\n",
       "\n",
       "    .dataframe thead th {\n",
       "        text-align: right;\n",
       "    }\n",
       "</style>\n",
       "<table border=\"1\" class=\"dataframe\">\n",
       "  <thead>\n",
       "    <tr style=\"text-align: right;\">\n",
       "      <th></th>\n",
       "      <th>id</th>\n",
       "      <th>name</th>\n",
       "      <th>email</th>\n",
       "      <th>gender</th>\n",
       "      <th>status</th>\n",
       "    </tr>\n",
       "  </thead>\n",
       "  <tbody>\n",
       "    <tr>\n",
       "      <th>0</th>\n",
       "      <td>3623</td>\n",
       "      <td>Goswami Arora</td>\n",
       "      <td>arora_goswami@pollich.co</td>\n",
       "      <td>female</td>\n",
       "      <td>active</td>\n",
       "    </tr>\n",
       "    <tr>\n",
       "      <th>1</th>\n",
       "      <td>3620</td>\n",
       "      <td>Chaitan Chaturvedi</td>\n",
       "      <td>chaitan_chaturvedi@keeling.io</td>\n",
       "      <td>male</td>\n",
       "      <td>active</td>\n",
       "    </tr>\n",
       "    <tr>\n",
       "      <th>2</th>\n",
       "      <td>3618</td>\n",
       "      <td>Sarvin Saini</td>\n",
       "      <td>sarvin_saini@dietrich.net</td>\n",
       "      <td>male</td>\n",
       "      <td>active</td>\n",
       "    </tr>\n",
       "    <tr>\n",
       "      <th>3</th>\n",
       "      <td>3617</td>\n",
       "      <td>Rev. Atreyee Sethi</td>\n",
       "      <td>rev_atreyee_sethi@mraz-trantow.co</td>\n",
       "      <td>male</td>\n",
       "      <td>active</td>\n",
       "    </tr>\n",
       "    <tr>\n",
       "      <th>4</th>\n",
       "      <td>3616</td>\n",
       "      <td>Shanti Prajapat</td>\n",
       "      <td>prajapat_shanti@braun.com</td>\n",
       "      <td>male</td>\n",
       "      <td>inactive</td>\n",
       "    </tr>\n",
       "    <tr>\n",
       "      <th>5</th>\n",
       "      <td>3615</td>\n",
       "      <td>Chiranjeeve Varrier</td>\n",
       "      <td>varrier_chiranjeeve@hammes.org</td>\n",
       "      <td>female</td>\n",
       "      <td>inactive</td>\n",
       "    </tr>\n",
       "    <tr>\n",
       "      <th>6</th>\n",
       "      <td>3614</td>\n",
       "      <td>Ranjeet Singh</td>\n",
       "      <td>singh_ranjeet@gleichner-ankunding.name</td>\n",
       "      <td>male</td>\n",
       "      <td>active</td>\n",
       "    </tr>\n",
       "    <tr>\n",
       "      <th>7</th>\n",
       "      <td>3613</td>\n",
       "      <td>Chandravati Desai</td>\n",
       "      <td>chandravati_desai@gulgowski.com</td>\n",
       "      <td>male</td>\n",
       "      <td>inactive</td>\n",
       "    </tr>\n",
       "    <tr>\n",
       "      <th>8</th>\n",
       "      <td>3612</td>\n",
       "      <td>Rep. Udai Varman</td>\n",
       "      <td>rep_udai_varman@mohr-kerluke.info</td>\n",
       "      <td>male</td>\n",
       "      <td>inactive</td>\n",
       "    </tr>\n",
       "    <tr>\n",
       "      <th>9</th>\n",
       "      <td>3611</td>\n",
       "      <td>Tanushree Agarwal</td>\n",
       "      <td>agarwal_tanushree@ernser-krajcik.biz</td>\n",
       "      <td>female</td>\n",
       "      <td>inactive</td>\n",
       "    </tr>\n",
       "  </tbody>\n",
       "</table>\n",
       "</div>"
      ],
      "text/plain": [
       "     id                 name                                   email  gender  \\\n",
       "0  3623        Goswami Arora                arora_goswami@pollich.co  female   \n",
       "1  3620   Chaitan Chaturvedi           chaitan_chaturvedi@keeling.io    male   \n",
       "2  3618         Sarvin Saini               sarvin_saini@dietrich.net    male   \n",
       "3  3617   Rev. Atreyee Sethi       rev_atreyee_sethi@mraz-trantow.co    male   \n",
       "4  3616      Shanti Prajapat               prajapat_shanti@braun.com    male   \n",
       "5  3615  Chiranjeeve Varrier          varrier_chiranjeeve@hammes.org  female   \n",
       "6  3614        Ranjeet Singh  singh_ranjeet@gleichner-ankunding.name    male   \n",
       "7  3613    Chandravati Desai         chandravati_desai@gulgowski.com    male   \n",
       "8  3612     Rep. Udai Varman       rep_udai_varman@mohr-kerluke.info    male   \n",
       "9  3611    Tanushree Agarwal    agarwal_tanushree@ernser-krajcik.biz  female   \n",
       "\n",
       "     status  \n",
       "0    active  \n",
       "1    active  \n",
       "2    active  \n",
       "3    active  \n",
       "4  inactive  \n",
       "5  inactive  \n",
       "6    active  \n",
       "7  inactive  \n",
       "8  inactive  \n",
       "9  inactive  "
      ]
     },
     "execution_count": 15,
     "metadata": {},
     "output_type": "execute_result"
    }
   ],
   "source": [
    "import pandas as pd\n",
    "data = pd.read_csv('users2.csv')\n",
    "data"
   ]
  },
  {
   "cell_type": "code",
   "execution_count": null,
   "id": "ec2e0cb8",
   "metadata": {},
   "outputs": [],
   "source": []
  }
 ],
 "metadata": {
  "kernelspec": {
   "display_name": "Python 3 (ipykernel)",
   "language": "python",
   "name": "python3"
  },
  "language_info": {
   "codemirror_mode": {
    "name": "ipython",
    "version": 3
   },
   "file_extension": ".py",
   "mimetype": "text/x-python",
   "name": "python",
   "nbconvert_exporter": "python",
   "pygments_lexer": "ipython3",
   "version": "3.9.13"
  }
 },
 "nbformat": 4,
 "nbformat_minor": 5
}
