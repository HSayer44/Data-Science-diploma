{
 "cells": [
  {
   "cell_type": "code",
   "execution_count": 1,
   "id": "41b276b2",
   "metadata": {},
   "outputs": [
    {
     "name": "stdout",
     "output_type": "stream",
     "text": [
      "Please enter the radius: 4\n",
      "the circumference is : 25.12 M\n"
     ]
    }
   ],
   "source": [
    "radius = input(\"Please enter the radius: \")\n",
    "circumference = 2 * 3.14 * int(radius)\n",
    "print(\"the circumference is :\", circumference, \"M\")"
   ]
  },
  {
   "cell_type": "code",
   "execution_count": 3,
   "id": "d883643d",
   "metadata": {},
   "outputs": [
    {
     "name": "stdout",
     "output_type": "stream",
     "text": [
      "enter the wedth: 4\n",
      "enter the height: 5\n",
      "the perimeter is: 18 M\n"
     ]
    }
   ],
   "source": [
    "wedth = int(input(\"enter the wedth: \"))\n",
    "height = int(input(\"enter the height: \"))\n",
    "perimeter = 2 * (wedth + height)\n",
    "print(\"the perimeter is:\", perimeter, \"M\")"
   ]
  },
  {
   "cell_type": "code",
   "execution_count": null,
   "id": "a19dd069",
   "metadata": {},
   "outputs": [],
   "source": []
  }
 ],
 "metadata": {
  "kernelspec": {
   "display_name": "Python 3 (ipykernel)",
   "language": "python",
   "name": "python3"
  },
  "language_info": {
   "codemirror_mode": {
    "name": "ipython",
    "version": 3
   },
   "file_extension": ".py",
   "mimetype": "text/x-python",
   "name": "python",
   "nbconvert_exporter": "python",
   "pygments_lexer": "ipython3",
   "version": "3.9.13"
  }
 },
 "nbformat": 4,
 "nbformat_minor": 5
}
